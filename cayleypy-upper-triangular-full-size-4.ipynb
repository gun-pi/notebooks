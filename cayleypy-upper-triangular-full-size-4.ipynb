{
 "cells": [
  {
   "metadata": {},
   "cell_type": "code",
   "outputs": [],
   "execution_count": null,
   "source": [
    "!pip install git+https://github.com/cayleypy/cayleypy\n",
    "!pip install git+https://github.com/gun-pi/notebooks"
   ],
   "id": "19fb2d9e6ae10fc2"
  },
  {
   "metadata": {
    "ExecuteTime": {
     "end_time": "2025-08-14T19:17:57.222962Z",
     "start_time": "2025-08-14T19:17:57.216877Z"
    }
   },
   "cell_type": "code",
   "source": [
    "import numpy as np\n",
    "\n",
    "from cayleypy_upper_triangular_utils import generate_basis_matrix, print_graph_visualization_and_spectrum, \\\n",
    "    calculate_growth_and_diameter"
   ],
   "id": "dfff0e066d5291f8",
   "outputs": [],
   "execution_count": 20
  },
  {
   "metadata": {},
   "cell_type": "code",
   "outputs": [],
   "execution_count": null,
   "source": [
    "def generate_matrices(k: int) -> list[list[np.ndarray]]:\n",
    "    \"\"\"\n",
    "    Generate a list of matrices M_{ij} = Id + E_{ij}, where i < j.\n",
    "    \"\"\"\n",
    "    assert k > 2\n",
    "    matrices = []\n",
    "    identity = np.eye(k, dtype=int)\n",
    "\n",
    "    for i in range(k - 1):\n",
    "        for j in range(i + 1, k):\n",
    "            M_ij = identity + generate_basis_matrix(k, i, j)\n",
    "            matrices.append(M_ij.tolist())\n",
    "\n",
    "    return matrices"
   ],
   "id": "dce9821655d354f9"
  },
  {
   "metadata": {},
   "cell_type": "markdown",
   "source": "### Growth calculation with matrix size = 4",
   "id": "13e7abc8c7cb1d9b"
  },
  {
   "metadata": {
    "ExecuteTime": {
     "end_time": "2025-08-14T19:17:58.804231Z",
     "start_time": "2025-08-14T19:17:58.799850Z"
    }
   },
   "cell_type": "code",
   "source": [
    "matrix_size = 4\n",
    "generators_mxs = generate_matrices(matrix_size)"
   ],
   "id": "550fd05f75a7844e",
   "outputs": [],
   "execution_count": 21
  },
  {
   "metadata": {},
   "cell_type": "markdown",
   "source": "#### Print graph visualization and spectrum for small graphs",
   "id": "5d9c24cff3ddab6e"
  },
  {
   "metadata": {},
   "cell_type": "code",
   "source": [
    "modulo = 2\n",
    "print_graph_visualization_and_spectrum(modulo, generators_mxs, include_inverses=True)\n",
    "print_graph_visualization_and_spectrum(modulo, generators_mxs, include_inverses=False)\n",
    "\n",
    "modulo = 3\n",
    "print_graph_visualization_and_spectrum(modulo, generators_mxs, include_inverses=True)\n",
    "print_graph_visualization_and_spectrum(modulo, generators_mxs, include_inverses=False)"
   ],
   "id": "9fa9b7f22141c942",
   "outputs": [],
   "execution_count": null
  },
  {
   "metadata": {},
   "cell_type": "markdown",
   "source": "#### Growth calculation for generators for modulos in range [2, 22]",
   "id": "bfb7bcca924ae3e1"
  },
  {
   "metadata": {
    "ExecuteTime": {
     "end_time": "2025-08-14T19:18:20.616347Z",
     "start_time": "2025-08-14T19:18:20.613331Z"
    }
   },
   "cell_type": "code",
   "source": "modulo_max = 22",
   "id": "902ee73e4c959f0b",
   "outputs": [],
   "execution_count": 23
  },
  {
   "metadata": {},
   "cell_type": "code",
   "source": [
    "calculate_growth_and_diameter(modulo_max, generators_mxs, include_inverses=True)\n",
    "calculate_growth_and_diameter(modulo_max, generators_mxs, include_inverses=False)"
   ],
   "id": "d5def5f3aabd1601",
   "outputs": [],
   "execution_count": null
  }
 ],
 "metadata": {
  "kernelspec": {
   "display_name": "Python 3",
   "language": "python",
   "name": "python3"
  },
  "language_info": {
   "codemirror_mode": {
    "name": "ipython",
    "version": 2
   },
   "file_extension": ".py",
   "mimetype": "text/x-python",
   "name": "python",
   "nbconvert_exporter": "python",
   "pygments_lexer": "ipython2",
   "version": "2.7.6"
  }
 },
 "nbformat": 4,
 "nbformat_minor": 5
}
